{
 "cells": [
  {
   "cell_type": "code",
   "execution_count": 8,
   "source": [
    "from pyspark.sql import SparkSession\n"
   ],
   "outputs": [],
   "metadata": {}
  },
  {
   "cell_type": "markdown",
   "source": [
    "## This is a markdown cell, notes for me"
   ],
   "metadata": {}
  },
  {
   "cell_type": "code",
   "execution_count": 14,
   "source": [
    "def create_spark_session():\n",
    "    return SparkSession.builder.appName('Basics').getOrCreate()\n",
    "\n",
    "def create_file_df(filepath,sc):\n",
    "    return sc.read.option(\"header\", \"true\").csv(filepath)\n"
   ],
   "outputs": [],
   "metadata": {}
  },
  {
   "cell_type": "code",
   "execution_count": 10,
   "source": [
    "    sc = create_spark_session()\n",
    "    filepath ='/home/riyazaamir/udemy/training/MOCK_DATA.csv'\n",
    "    df = create_file_df(filepath,sc)"
   ],
   "outputs": [
    {
     "output_type": "stream",
     "name": "stderr",
     "text": [
      "21/10/15 00:26:36 WARN Utils: Your hostname, Aamirs-Desktop resolves to a loopback address: 127.0.1.1; using 172.20.199.201 instead (on interface eth0)\n",
      "21/10/15 00:26:36 WARN Utils: Set SPARK_LOCAL_IP if you need to bind to another address\n",
      "21/10/15 00:26:37 WARN NativeCodeLoader: Unable to load native-hadoop library for your platform... using builtin-java classes where applicable\n",
      "Using Spark's default log4j profile: org/apache/spark/log4j-defaults.properties\n",
      "Setting default log level to \"WARN\".\n",
      "To adjust logging level use sc.setLogLevel(newLevel). For SparkR, use setLogLevel(newLevel).\n"
     ]
    }
   ],
   "metadata": {}
  },
  {
   "cell_type": "code",
   "execution_count": 15,
   "source": [
    "df.show(5)"
   ],
   "outputs": [
    {
     "output_type": "stream",
     "name": "stdout",
     "text": [
      "+---+----------+---------+--------------------+-----------+--------------------+\n",
      "| id|first_name|last_name|               email|     gender|              skills|\n",
      "+---+----------+---------+--------------------+-----------+--------------------+\n",
      "|  1|  Ludovico|  Klosser|lklosser0@shop-pr...| Polygender|                FSCM|\n",
      "|  2|   Umberto|  Leynton| uleynton1@wiley.com|Genderqueer|    Teacher Training|\n",
      "|  3|     Arney|  Rawdall| arawdall2@issuu.com|   Bigender|         Aspen HYSYS|\n",
      "|  4|        Hy|   Rourke|hrourke3@freewebs...| Polygender|              OS/390|\n",
      "|  5|     Timmi|  Glennie|  tglennie4@imdb.com|       Male|Americans with Di...|\n",
      "+---+----------+---------+--------------------+-----------+--------------------+\n",
      "only showing top 5 rows\n",
      "\n"
     ]
    }
   ],
   "metadata": {}
  },
  {
   "cell_type": "code",
   "execution_count": 7,
   "source": [
    "mylist[-1]"
   ],
   "outputs": [
    {
     "output_type": "execute_result",
     "data": {
      "text/plain": [
       "3"
      ]
     },
     "metadata": {},
     "execution_count": 7
    }
   ],
   "metadata": {}
  },
  {
   "cell_type": "code",
   "execution_count": 7,
   "source": [
    "x = [1,2,3,4]"
   ],
   "outputs": [],
   "metadata": {}
  },
  {
   "cell_type": "code",
   "execution_count": 8,
   "source": [
    "out = [num**2 for num in x]"
   ],
   "outputs": [],
   "metadata": {}
  },
  {
   "cell_type": "code",
   "execution_count": 9,
   "source": [
    "print(out)"
   ],
   "outputs": [
    {
     "output_type": "stream",
     "name": "stdout",
     "text": [
      "[1, 4, 9, 16]\n"
     ]
    }
   ],
   "metadata": {}
  },
  {
   "cell_type": "code",
   "execution_count": null,
   "source": [],
   "outputs": [],
   "metadata": {}
  }
 ],
 "metadata": {
  "kernelspec": {
   "name": "python3",
   "display_name": "Python 3.8.10 64-bit"
  },
  "language_info": {
   "codemirror_mode": {
    "name": "ipython",
    "version": 3
   },
   "file_extension": ".py",
   "mimetype": "text/x-python",
   "name": "python",
   "nbconvert_exporter": "python",
   "pygments_lexer": "ipython3",
   "version": "3.8.10"
  },
  "interpreter": {
   "hash": "916dbcbb3f70747c44a77c7bcd40155683ae19c65e1c03b4aa3499c5328201f1"
  }
 },
 "nbformat": 4,
 "nbformat_minor": 5
}